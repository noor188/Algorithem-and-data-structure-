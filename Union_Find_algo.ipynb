{
 "cells": [
  {
   "cell_type": "code",
   "execution_count": 2,
   "metadata": {},
   "outputs": [],
   "source": [
    "# a union find algorithem to detect a cycle in an undirected graph "
   ]
  },
  {
   "cell_type": "code",
   "execution_count": 4,
   "metadata": {},
   "outputs": [],
   "source": [
    "from collections import defaultdict"
   ]
  },
  {
   "cell_type": "code",
   "execution_count": 11,
   "metadata": {},
   "outputs": [],
   "source": [
    "# class represents a undirected graph using adj list representation\n",
    "class Graph:\n",
    "    \n",
    "    def __init__(self , vertices):\n",
    "        self.V = vertices # num of vertices\n",
    "        self.graph = defaultdict(list) # adjacency list to store graph\n",
    "    \n",
    "    # add edge to the graph \n",
    "    def addEdge(self,u,v):\n",
    "        self.graph[u].append(v)\n",
    "        \n",
    "    def find_parent(self,parent,i):\n",
    "        \n",
    "        if parent[i] == -1:\n",
    "            return i\n",
    "        if parent[i] != -1:\n",
    "            return self.find_parent(parent,parent[i])       \n",
    "        \n",
    "    def union(self, parent,i,j):\n",
    "        parent[i] =j\n",
    "        \n",
    "    def iscyclic(self):\n",
    "        \n",
    "        # alocate all subsets as single slement sets \n",
    "        parent = [-1]* self.V\n",
    "        \n",
    "        for i in self.graph:\n",
    "            for j in self.graph[i]:\n",
    "                x = self.find_parent(parent,i)\n",
    "                y = self.find_parent(parent,j)\n",
    "                \n",
    "                if x ==y:\n",
    "                    return True\n",
    "                # union \n",
    "                self.union(parent,i,j)\n",
    "        \n",
    "        \n",
    "    \n",
    "    \n",
    "        "
   ]
  },
  {
   "cell_type": "code",
   "execution_count": 16,
   "metadata": {},
   "outputs": [
    {
     "name": "stdout",
     "output_type": "stream",
     "text": [
      "there is a cycle\n"
     ]
    }
   ],
   "source": [
    "g = Graph(4)\n",
    "g.addEdge(0,1)\n",
    "g.addEdge(1,2)\n",
    "g.addEdge(2,0)\n",
    "\n",
    "if g.iscyclic():\n",
    "    print(\"there is a cycle\")\n",
    "    \n",
    "else:\n",
    "    print(\"there is no cycle\")"
   ]
  },
  {
   "cell_type": "code",
   "execution_count": null,
   "metadata": {},
   "outputs": [],
   "source": []
  }
 ],
 "metadata": {
  "kernelspec": {
   "display_name": "Python 3",
   "language": "python",
   "name": "python3"
  },
  "language_info": {
   "codemirror_mode": {
    "name": "ipython",
    "version": 3
   },
   "file_extension": ".py",
   "mimetype": "text/x-python",
   "name": "python",
   "nbconvert_exporter": "python",
   "pygments_lexer": "ipython3",
   "version": "3.7.3"
  }
 },
 "nbformat": 4,
 "nbformat_minor": 2
}
